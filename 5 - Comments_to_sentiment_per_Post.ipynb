{
 "cells": [
  {
   "cell_type": "markdown",
   "metadata": {
    "id": "LvCUFlmSsXV2"
   },
   "source": [
    "#### Importing all neccessary libraries and mounting google drive"
   ]
  },
  {
   "cell_type": "code",
   "execution_count": null,
   "metadata": {
    "id": "P40QWZpFsLk8"
   },
   "outputs": [],
   "source": [
    "import pandas as pd"
   ]
  },
  {
   "cell_type": "code",
   "execution_count": null,
   "metadata": {
    "id": "3NMa0L6psRqB"
   },
   "outputs": [],
   "source": [
    "#from google.colab import drive\n",
    "#drive.mount('/content/drive')"
   ]
  },
  {
   "cell_type": "markdown",
   "metadata": {
    "id": "vkQ1kVh9shtr"
   },
   "source": [
    "#### Loading posts and comments"
   ]
  },
  {
   "cell_type": "code",
   "execution_count": null,
   "metadata": {
    "id": "ZpGBXgdBsRAM"
   },
   "outputs": [],
   "source": [
    "#posts_df = pd.read_csv(\"/content/drive/Shareddrives/Capstone/Analysis/posts_with_keywords.csv\")\n",
    "#comments_df = pd.read_json('/content/drive/Shareddrives/Capstone/Analysis/comments_sentiment_scoreAvg.json')\n",
    "posts_df = pd.read_csv(\"posts_with_keywords.csv\")\n",
    "comments_df = pd.read_json('comments_sentiment_scoreAvg.json')"
   ]
  },
  {
   "cell_type": "code",
   "execution_count": null,
   "metadata": {
    "colab": {
     "base_uri": "https://localhost:8080/",
     "height": 301
    },
    "id": "FuF_bRQStOxQ",
    "outputId": "3c1114b4-a6ec-41b6-82b4-a76ab4833012"
   },
   "outputs": [
    {
     "data": {
      "text/html": [
       "<div>\n",
       "<style scoped>\n",
       "    .dataframe tbody tr th:only-of-type {\n",
       "        vertical-align: middle;\n",
       "    }\n",
       "\n",
       "    .dataframe tbody tr th {\n",
       "        vertical-align: top;\n",
       "    }\n",
       "\n",
       "    .dataframe thead th {\n",
       "        text-align: right;\n",
       "    }\n",
       "</style>\n",
       "<table border=\"1\" class=\"dataframe\">\n",
       "  <thead>\n",
       "    <tr style=\"text-align: right;\">\n",
       "      <th></th>\n",
       "      <th>parent_id</th>\n",
       "      <th>comment_id</th>\n",
       "      <th>score_id</th>\n",
       "      <th>created_utc</th>\n",
       "      <th>body</th>\n",
       "      <th>score</th>\n",
       "      <th>permalink</th>\n",
       "      <th>is_submitter</th>\n",
       "      <th>author</th>\n",
       "      <th>date</th>\n",
       "      <th>link</th>\n",
       "      <th>body_splitted</th>\n",
       "      <th>sentiment</th>\n",
       "      <th>sentiment_score</th>\n",
       "      <th>sentiment_score_avg</th>\n",
       "    </tr>\n",
       "  </thead>\n",
       "  <tbody>\n",
       "    <tr>\n",
       "      <th>0</th>\n",
       "      <td>t3_559xc5</td>\n",
       "      <td>d88vp4i</td>\n",
       "      <td>2</td>\n",
       "      <td>2016-09-30 22:10:09</td>\n",
       "      <td>Torque is what will help a car ascent a steep ...</td>\n",
       "      <td>2</td>\n",
       "      <td>/r/whatcarshouldIbuy/comments/559xc5/car_with_...</td>\n",
       "      <td>False</td>\n",
       "      <td>pinks1ip</td>\n",
       "      <td>2016-09-30 22:10:09</td>\n",
       "      <td>https://www.reddit.com/r/whatcarshouldIbuy/com...</td>\n",
       "      <td>[Torque is what will help a car ascent a steep...</td>\n",
       "      <td>[{'label': 'LABEL_0', 'score': 0.9868171811}, ...</td>\n",
       "      <td>-0.272727</td>\n",
       "      <td>-0.912877</td>\n",
       "    </tr>\n",
       "  </tbody>\n",
       "</table>\n",
       "</div>"
      ],
      "text/plain": [
       "   parent_id comment_id  score_id          created_utc  \\\n",
       "0  t3_559xc5    d88vp4i         2  2016-09-30 22:10:09   \n",
       "\n",
       "                                                body  score  \\\n",
       "0  Torque is what will help a car ascent a steep ...      2   \n",
       "\n",
       "                                           permalink  is_submitter    author  \\\n",
       "0  /r/whatcarshouldIbuy/comments/559xc5/car_with_...         False  pinks1ip   \n",
       "\n",
       "                 date                                               link  \\\n",
       "0 2016-09-30 22:10:09  https://www.reddit.com/r/whatcarshouldIbuy/com...   \n",
       "\n",
       "                                       body_splitted  \\\n",
       "0  [Torque is what will help a car ascent a steep...   \n",
       "\n",
       "                                           sentiment  sentiment_score  \\\n",
       "0  [{'label': 'LABEL_0', 'score': 0.9868171811}, ...        -0.272727   \n",
       "\n",
       "   sentiment_score_avg  \n",
       "0            -0.912877  "
      ]
     },
     "execution_count": 4,
     "metadata": {},
     "output_type": "execute_result"
    }
   ],
   "source": [
    "comments_df.head(1)"
   ]
  },
  {
   "cell_type": "markdown",
   "metadata": {
    "id": "d3vkS0Wns8sh"
   },
   "source": [
    "#### Comments Preparation"
   ]
  },
  {
   "cell_type": "code",
   "execution_count": null,
   "metadata": {
    "id": "-sHbuQJyso-9"
   },
   "outputs": [],
   "source": [
    "#remove the prefix of parent_id\n",
    "comments_df['parent_id'] = comments_df['parent_id'].apply(lambda x: x[3:])"
   ]
  },
  {
   "cell_type": "code",
   "execution_count": null,
   "metadata": {
    "colab": {
     "base_uri": "https://localhost:8080/"
    },
    "id": "fctFkF-ZtChe",
    "outputId": "7dc4e873-79f5-4fce-faa6-225fa17ac119"
   },
   "outputs": [
    {
     "data": {
      "text/plain": [
       "sentiment_score    123.021032\n",
       "dtype: float64"
      ]
     },
     "execution_count": 6,
     "metadata": {},
     "output_type": "execute_result"
    }
   ],
   "source": [
    "grouped_comments_df = pd.DataFrame(comments_df.groupby('parent_id')[ 'sentiment_score'].sum())\n",
    "grouped_comments_df.max()"
   ]
  },
  {
   "cell_type": "code",
   "execution_count": null,
   "metadata": {
    "colab": {
     "base_uri": "https://localhost:8080/",
     "height": 238
    },
    "id": "oFIJWSjnxN2D",
    "outputId": "5ccb9416-7acc-4a51-bb6c-562bc21a6a15"
   },
   "outputs": [
    {
     "data": {
      "text/html": [
       "<div>\n",
       "<style scoped>\n",
       "    .dataframe tbody tr th:only-of-type {\n",
       "        vertical-align: middle;\n",
       "    }\n",
       "\n",
       "    .dataframe tbody tr th {\n",
       "        vertical-align: top;\n",
       "    }\n",
       "\n",
       "    .dataframe thead th {\n",
       "        text-align: right;\n",
       "    }\n",
       "</style>\n",
       "<table border=\"1\" class=\"dataframe\">\n",
       "  <thead>\n",
       "    <tr style=\"text-align: right;\">\n",
       "      <th></th>\n",
       "      <th>sentiment_score</th>\n",
       "    </tr>\n",
       "    <tr>\n",
       "      <th>parent_id</th>\n",
       "      <th></th>\n",
       "    </tr>\n",
       "  </thead>\n",
       "  <tbody>\n",
       "    <tr>\n",
       "      <th>1u5wi3</th>\n",
       "      <td>1.000000</td>\n",
       "    </tr>\n",
       "    <tr>\n",
       "      <th>1u6c9g</th>\n",
       "      <td>0.000000</td>\n",
       "    </tr>\n",
       "    <tr>\n",
       "      <th>1u6oc2</th>\n",
       "      <td>9.666667</td>\n",
       "    </tr>\n",
       "    <tr>\n",
       "      <th>1u72cd</th>\n",
       "      <td>1.500000</td>\n",
       "    </tr>\n",
       "    <tr>\n",
       "      <th>1u881i</th>\n",
       "      <td>2.333333</td>\n",
       "    </tr>\n",
       "  </tbody>\n",
       "</table>\n",
       "</div>"
      ],
      "text/plain": [
       "           sentiment_score\n",
       "parent_id                 \n",
       "1u5wi3            1.000000\n",
       "1u6c9g            0.000000\n",
       "1u6oc2            9.666667\n",
       "1u72cd            1.500000\n",
       "1u881i            2.333333"
      ]
     },
     "execution_count": 7,
     "metadata": {},
     "output_type": "execute_result"
    }
   ],
   "source": [
    "grouped_comments_df.head()"
   ]
  },
  {
   "cell_type": "markdown",
   "metadata": {
    "id": "XibMYFXcux1O"
   },
   "source": [
    "#### Posts Preparation"
   ]
  },
  {
   "cell_type": "code",
   "execution_count": null,
   "metadata": {
    "colab": {
     "base_uri": "https://localhost:8080/",
     "height": 280
    },
    "id": "zNjZqk2htM19",
    "outputId": "b51bd99d-a014-4316-b88b-a486a3b175d5"
   },
   "outputs": [
    {
     "data": {
      "text/html": [
       "<div>\n",
       "<style scoped>\n",
       "    .dataframe tbody tr th:only-of-type {\n",
       "        vertical-align: middle;\n",
       "    }\n",
       "\n",
       "    .dataframe tbody tr th {\n",
       "        vertical-align: top;\n",
       "    }\n",
       "\n",
       "    .dataframe thead th {\n",
       "        text-align: right;\n",
       "    }\n",
       "</style>\n",
       "<table border=\"1\" class=\"dataframe\">\n",
       "  <thead>\n",
       "    <tr style=\"text-align: right;\">\n",
       "      <th></th>\n",
       "      <th>full_link</th>\n",
       "      <th>subreddit</th>\n",
       "      <th>post keywords</th>\n",
       "      <th>date</th>\n",
       "      <th>score</th>\n",
       "      <th>num_comments</th>\n",
       "      <th>author</th>\n",
       "      <th>title</th>\n",
       "      <th>selftext</th>\n",
       "      <th>top_comment</th>\n",
       "      <th>comment_score</th>\n",
       "      <th>keywords</th>\n",
       "    </tr>\n",
       "    <tr>\n",
       "      <th>id</th>\n",
       "      <th></th>\n",
       "      <th></th>\n",
       "      <th></th>\n",
       "      <th></th>\n",
       "      <th></th>\n",
       "      <th></th>\n",
       "      <th></th>\n",
       "      <th></th>\n",
       "      <th></th>\n",
       "      <th></th>\n",
       "      <th></th>\n",
       "      <th></th>\n",
       "    </tr>\n",
       "  </thead>\n",
       "  <tbody>\n",
       "    <tr>\n",
       "      <th>5fsq70</th>\n",
       "      <td>https://www.reddit.com/r/whatcarshouldIbuy/com...</td>\n",
       "      <td>whatcarshouldIbuy</td>\n",
       "      <td>NaN</td>\n",
       "      <td>2016-11-30</td>\n",
       "      <td>3.0</td>\n",
       "      <td>5.0</td>\n",
       "      <td>ChalkPie</td>\n",
       "      <td>≤$9k and &lt;50k miles?</td>\n",
       "      <td>I've been driving the same car since I started...</td>\n",
       "      <td>I've seen a few Ford Focus/Hyundai Accent seda...</td>\n",
       "      <td>1.0</td>\n",
       "      <td>[ideally, personal, mention, \\n, die, similar,...</td>\n",
       "    </tr>\n",
       "  </tbody>\n",
       "</table>\n",
       "</div>"
      ],
      "text/plain": [
       "                                                full_link          subreddit  \\\n",
       "id                                                                             \n",
       "5fsq70  https://www.reddit.com/r/whatcarshouldIbuy/com...  whatcarshouldIbuy   \n",
       "\n",
       "        post keywords        date  score  num_comments    author  \\\n",
       "id                                                                 \n",
       "5fsq70            NaN  2016-11-30    3.0           5.0  ChalkPie   \n",
       "\n",
       "                       title  \\\n",
       "id                             \n",
       "5fsq70  ≤$9k and <50k miles?   \n",
       "\n",
       "                                                 selftext  \\\n",
       "id                                                          \n",
       "5fsq70  I've been driving the same car since I started...   \n",
       "\n",
       "                                              top_comment  comment_score  \\\n",
       "id                                                                         \n",
       "5fsq70  I've seen a few Ford Focus/Hyundai Accent seda...            1.0   \n",
       "\n",
       "                                                 keywords  \n",
       "id                                                         \n",
       "5fsq70  [ideally, personal, mention, \\n, die, similar,...  "
      ]
     },
     "execution_count": 8,
     "metadata": {},
     "output_type": "execute_result"
    }
   ],
   "source": [
    "posts_df = posts_df.set_index('id')\n",
    "# changing keyword \"dict\" to list\n",
    "posts_df['keywords'] = posts_df['keywords'].apply(lambda x: list(eval(x)))\n",
    "posts_df.head(1)"
   ]
  },
  {
   "cell_type": "markdown",
   "metadata": {
    "id": "-S09hf6nvuxB"
   },
   "source": [
    "### Join posts_df and grouped_df"
   ]
  },
  {
   "cell_type": "code",
   "execution_count": null,
   "metadata": {
    "id": "NEKvzxj8uLz2"
   },
   "outputs": [],
   "source": [
    "posts_df = posts_df.join(grouped_comments_df)\n",
    "posts_df['sentiment_score'] = posts_df['sentiment_score'].fillna(0)"
   ]
  },
  {
   "cell_type": "code",
   "execution_count": null,
   "metadata": {
    "id": "BAOu-Lkms3Z-",
    "outputId": "17a1115e-81dd-44d9-9fe1-92ab12aa7aec"
   },
   "outputs": [
    {
     "data": {
      "text/html": [
       "<div>\n",
       "<style scoped>\n",
       "    .dataframe tbody tr th:only-of-type {\n",
       "        vertical-align: middle;\n",
       "    }\n",
       "\n",
       "    .dataframe tbody tr th {\n",
       "        vertical-align: top;\n",
       "    }\n",
       "\n",
       "    .dataframe thead th {\n",
       "        text-align: right;\n",
       "    }\n",
       "</style>\n",
       "<table border=\"1\" class=\"dataframe\">\n",
       "  <thead>\n",
       "    <tr style=\"text-align: right;\">\n",
       "      <th></th>\n",
       "      <th>full_link</th>\n",
       "      <th>subreddit</th>\n",
       "      <th>post keywords</th>\n",
       "      <th>date</th>\n",
       "      <th>score</th>\n",
       "      <th>num_comments</th>\n",
       "      <th>author</th>\n",
       "      <th>title</th>\n",
       "      <th>selftext</th>\n",
       "      <th>top_comment</th>\n",
       "      <th>comment_score</th>\n",
       "      <th>keywords</th>\n",
       "      <th>sentiment_score</th>\n",
       "    </tr>\n",
       "  </thead>\n",
       "  <tbody>\n",
       "    <tr>\n",
       "      <th>1u5wi3</th>\n",
       "      <td>https://www.reddit.com/r/whatcarshouldIbuy/com...</td>\n",
       "      <td>whatcarshouldIbuy</td>\n",
       "      <td>NaN</td>\n",
       "      <td>2014-01-01</td>\n",
       "      <td>1.0</td>\n",
       "      <td>2.0</td>\n",
       "      <td>ground_sniper</td>\n",
       "      <td>Thoughts on 1989 Toyota Supra 7M-GE</td>\n",
       "      <td>Title says it all, owner is asking $1500 body ...</td>\n",
       "      <td>They are.  The M-series engines are simple, ru...</td>\n",
       "      <td>1.0</td>\n",
       "      <td>[say, 7mge, owner, 1989, 1500, engine, ask, bu...</td>\n",
       "      <td>1.0</td>\n",
       "    </tr>\n",
       "  </tbody>\n",
       "</table>\n",
       "</div>"
      ],
      "text/plain": [
       "                                                full_link          subreddit  \\\n",
       "1u5wi3  https://www.reddit.com/r/whatcarshouldIbuy/com...  whatcarshouldIbuy   \n",
       "\n",
       "        post keywords        date  score  num_comments         author  \\\n",
       "1u5wi3            NaN  2014-01-01    1.0           2.0  ground_sniper   \n",
       "\n",
       "                                      title  \\\n",
       "1u5wi3  Thoughts on 1989 Toyota Supra 7M-GE   \n",
       "\n",
       "                                                 selftext  \\\n",
       "1u5wi3  Title says it all, owner is asking $1500 body ...   \n",
       "\n",
       "                                              top_comment  comment_score  \\\n",
       "1u5wi3  They are.  The M-series engines are simple, ru...            1.0   \n",
       "\n",
       "                                                 keywords  sentiment_score  \n",
       "1u5wi3  [say, 7mge, owner, 1989, 1500, engine, ask, bu...              1.0  "
      ]
     },
     "execution_count": 13,
     "metadata": {},
     "output_type": "execute_result"
    }
   ],
   "source": [
    "posts_df.head(1)"
   ]
  },
  {
   "cell_type": "markdown",
   "metadata": {
    "id": "jIjLpM5uv1PT"
   },
   "source": [
    "### Export to csv\n",
    "    \n",
    "    "
   ]
  },
  {
   "cell_type": "code",
   "execution_count": null,
   "metadata": {
    "id": "pQZnioDZs3aA"
   },
   "outputs": [],
   "source": [
    "exported_file_name = f'posts_with_sentiment_score'\n",
    "posts_df.to_csv(f'{exported_file_name}.csv', index=False, header=True)"
   ]
  },
  {
   "cell_type": "code",
   "execution_count": null,
   "metadata": {
    "id": "ERPDLJ0Ls3aA"
   },
   "outputs": [],
   "source": []
  }
 ],
 "metadata": {
  "colab": {
   "name": "Comments_to_sentiment_per_Post.ipynb",
   "provenance": []
  },
  "kernelspec": {
   "display_name": "Python 3",
   "language": "python",
   "name": "python3"
  },
  "language_info": {
   "codemirror_mode": {
    "name": "ipython",
    "version": 3
   },
   "file_extension": ".py",
   "mimetype": "text/x-python",
   "name": "python",
   "nbconvert_exporter": "python",
   "pygments_lexer": "ipython3",
   "version": "3.8.8"
  }
 },
 "nbformat": 4,
 "nbformat_minor": 1
}
