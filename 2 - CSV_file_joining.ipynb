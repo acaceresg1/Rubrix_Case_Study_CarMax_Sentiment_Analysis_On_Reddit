{
 "cells": [
  {
   "cell_type": "code",
   "execution_count": 1,
   "id": "fc551438",
   "metadata": {},
   "outputs": [],
   "source": [
    "import glob\n",
    "import pandas as pd"
   ]
  },
  {
   "cell_type": "code",
   "execution_count": 2,
   "id": "829cffbc",
   "metadata": {},
   "outputs": [],
   "source": [
    "csv_files = glob.glob('Scraped Reddit per Month/*.csv')"
   ]
  },
  {
   "cell_type": "code",
   "execution_count": 3,
   "id": "1f3113be",
   "metadata": {},
   "outputs": [],
   "source": [
    "posts, comments = [], []\n",
    "for file in csv_files:\n",
    "    (posts, comments)[\"comment\" in file].append(file)        "
   ]
  },
  {
   "cell_type": "code",
   "execution_count": 4,
   "id": "e9ea5d3a",
   "metadata": {},
   "outputs": [],
   "source": [
    "def csv_files_to_df(csv_file_list):\n",
    "    df_list = []\n",
    "\n",
    "    for filename in csv_file_list:\n",
    "        df = pd.read_csv(filename, index_col=None, header=0)\n",
    "        \n",
    "        df_list.append(df)\n",
    "\n",
    "    df = pd.concat(df_list, axis=0, ignore_index=True)\n",
    "    \n",
    "    df[\"date\"] = pd.to_datetime(df[\"date\"])\n",
    "    \n",
    "    return df"
   ]
  },
  {
   "cell_type": "code",
   "execution_count": 5,
   "id": "4e8a7968",
   "metadata": {},
   "outputs": [],
   "source": [
    "posts_df = csv_files_to_df(posts)\n",
    "comments_df = csv_files_to_df(comments)"
   ]
  },
  {
   "cell_type": "code",
   "execution_count": 6,
   "id": "4901b087",
   "metadata": {},
   "outputs": [
    {
     "data": {
      "text/plain": [
       "(143891, 12)"
      ]
     },
     "execution_count": 6,
     "metadata": {},
     "output_type": "execute_result"
    }
   ],
   "source": [
    "posts_df.shape"
   ]
  },
  {
   "cell_type": "code",
   "execution_count": 7,
   "id": "9a3d6864",
   "metadata": {},
   "outputs": [
    {
     "data": {
      "text/plain": [
       "(1248821, 11)"
      ]
     },
     "execution_count": 7,
     "metadata": {},
     "output_type": "execute_result"
    }
   ],
   "source": [
    "comments_df.shape"
   ]
  },
  {
   "cell_type": "code",
   "execution_count": 8,
   "id": "d608fff4",
   "metadata": {},
   "outputs": [
    {
     "data": {
      "text/html": [
       "<div>\n",
       "<style scoped>\n",
       "    .dataframe tbody tr th:only-of-type {\n",
       "        vertical-align: middle;\n",
       "    }\n",
       "\n",
       "    .dataframe tbody tr th {\n",
       "        vertical-align: top;\n",
       "    }\n",
       "\n",
       "    .dataframe thead th {\n",
       "        text-align: right;\n",
       "    }\n",
       "</style>\n",
       "<table border=\"1\" class=\"dataframe\">\n",
       "  <thead>\n",
       "    <tr style=\"text-align: right;\">\n",
       "      <th></th>\n",
       "      <th>full_link</th>\n",
       "      <th>subreddit</th>\n",
       "      <th>post keywords</th>\n",
       "      <th>id</th>\n",
       "      <th>date</th>\n",
       "      <th>score</th>\n",
       "      <th>num_comments</th>\n",
       "      <th>author</th>\n",
       "      <th>title</th>\n",
       "      <th>selftext</th>\n",
       "      <th>top_comment</th>\n",
       "      <th>comment_score</th>\n",
       "    </tr>\n",
       "  </thead>\n",
       "  <tbody>\n",
       "    <tr>\n",
       "      <th>66727</th>\n",
       "      <td>https://www.reddit.com/r/whatcarshouldIbuy/com...</td>\n",
       "      <td>whatcarshouldIbuy</td>\n",
       "      <td>NaN</td>\n",
       "      <td>1u6oc2</td>\n",
       "      <td>2014-01-01</td>\n",
       "      <td>2.0</td>\n",
       "      <td>32.0</td>\n",
       "      <td>[deleted]</td>\n",
       "      <td>$50-70k budget, need more room now that we are...</td>\n",
       "      <td>I've always been a sucker for RWD 6-speed manu...</td>\n",
       "      <td>CTS-V Wagon!  You can get the practicality and...</td>\n",
       "      <td>14.0</td>\n",
       "    </tr>\n",
       "  </tbody>\n",
       "</table>\n",
       "</div>"
      ],
      "text/plain": [
       "                                               full_link          subreddit  \\\n",
       "66727  https://www.reddit.com/r/whatcarshouldIbuy/com...  whatcarshouldIbuy   \n",
       "\n",
       "       post keywords      id       date  score  num_comments     author  \\\n",
       "66727            NaN  1u6oc2 2014-01-01    2.0          32.0  [deleted]   \n",
       "\n",
       "                                                   title  \\\n",
       "66727  $50-70k budget, need more room now that we are...   \n",
       "\n",
       "                                                selftext  \\\n",
       "66727  I've always been a sucker for RWD 6-speed manu...   \n",
       "\n",
       "                                             top_comment  comment_score  \n",
       "66727  CTS-V Wagon!  You can get the practicality and...           14.0  "
      ]
     },
     "execution_count": 8,
     "metadata": {},
     "output_type": "execute_result"
    }
   ],
   "source": [
    "posts_df.sort_values(by=\"date\").head(1)"
   ]
  },
  {
   "cell_type": "code",
   "execution_count": 9,
   "id": "623ce103",
   "metadata": {
    "scrolled": true
   },
   "outputs": [
    {
     "data": {
      "text/html": [
       "<div>\n",
       "<style scoped>\n",
       "    .dataframe tbody tr th:only-of-type {\n",
       "        vertical-align: middle;\n",
       "    }\n",
       "\n",
       "    .dataframe tbody tr th {\n",
       "        vertical-align: top;\n",
       "    }\n",
       "\n",
       "    .dataframe thead th {\n",
       "        text-align: right;\n",
       "    }\n",
       "</style>\n",
       "<table border=\"1\" class=\"dataframe\">\n",
       "  <thead>\n",
       "    <tr style=\"text-align: right;\">\n",
       "      <th></th>\n",
       "      <th>parent_id</th>\n",
       "      <th>comment_id</th>\n",
       "      <th>score_id</th>\n",
       "      <th>created_utc</th>\n",
       "      <th>body</th>\n",
       "      <th>score</th>\n",
       "      <th>permalink</th>\n",
       "      <th>is_submitter</th>\n",
       "      <th>author</th>\n",
       "      <th>date</th>\n",
       "      <th>link</th>\n",
       "    </tr>\n",
       "  </thead>\n",
       "  <tbody>\n",
       "    <tr>\n",
       "      <th>728721</th>\n",
       "      <td>t3_1u6c9g</td>\n",
       "      <td>ceeygc4</td>\n",
       "      <td>1</td>\n",
       "      <td>2014-01-01 20:58:26</td>\n",
       "      <td>There's probably nothing wrong with it, I woul...</td>\n",
       "      <td>1</td>\n",
       "      <td>/r/whatcarshouldIbuy/comments/1u6c9g/so_i_noti...</td>\n",
       "      <td>False</td>\n",
       "      <td>hollandhaile</td>\n",
       "      <td>2014-01-01 20:58:26</td>\n",
       "      <td>https://www.reddit.com/r/whatcarshouldIbuy/com...</td>\n",
       "    </tr>\n",
       "  </tbody>\n",
       "</table>\n",
       "</div>"
      ],
      "text/plain": [
       "        parent_id comment_id score_id          created_utc  \\\n",
       "728721  t3_1u6c9g    ceeygc4        1  2014-01-01 20:58:26   \n",
       "\n",
       "                                                     body score  \\\n",
       "728721  There's probably nothing wrong with it, I woul...     1   \n",
       "\n",
       "                                                permalink is_submitter  \\\n",
       "728721  /r/whatcarshouldIbuy/comments/1u6c9g/so_i_noti...        False   \n",
       "\n",
       "              author                date  \\\n",
       "728721  hollandhaile 2014-01-01 20:58:26   \n",
       "\n",
       "                                                     link  \n",
       "728721  https://www.reddit.com/r/whatcarshouldIbuy/com...  "
      ]
     },
     "execution_count": 9,
     "metadata": {},
     "output_type": "execute_result"
    }
   ],
   "source": [
    "comments_df.sort_values(by=\"date\").head(1)"
   ]
  },
  {
   "cell_type": "code",
   "execution_count": 10,
   "id": "efa3aeb1",
   "metadata": {},
   "outputs": [
    {
     "data": {
      "text/plain": [
       "date\n",
       "2014.0     2938\n",
       "2015.0     9661\n",
       "2016.0    11484\n",
       "2017.0    12489\n",
       "2018.0    11996\n",
       "2019.0    16476\n",
       "2020.0    27395\n",
       "2021.0    33153\n",
       "2022.0    18293\n",
       "dtype: int64"
      ]
     },
     "execution_count": 10,
     "metadata": {},
     "output_type": "execute_result"
    }
   ],
   "source": [
    "posts_grouped = posts_df.groupby(posts_df.date.dt.year).size()\n",
    "posts_grouped"
   ]
  },
  {
   "cell_type": "code",
   "execution_count": 11,
   "id": "1bca43d4",
   "metadata": {},
   "outputs": [],
   "source": [
    "def export_to_csv(comment_or_post, word, comments):\n",
    "    \n",
    "    exported_file_name = f'scraped_reddit_{comment_or_post}_for_{word}'\n",
    "\n",
    "    comments.to_csv(f'{exported_file_name}.csv', index=False, header=True)"
   ]
  },
  {
   "cell_type": "code",
   "execution_count": null,
   "id": "10d033cf",
   "metadata": {},
   "outputs": [],
   "source": [
    "export_to_csv('comments', 'whatcarshouldIbuy', comments_df)\n",
    "export_to_csv('posts', 'whatcarshouldIbuy', posts_df)"
   ]
  }
 ],
 "metadata": {
  "kernelspec": {
   "display_name": "Python 3",
   "language": "python",
   "name": "python3"
  },
  "language_info": {
   "codemirror_mode": {
    "name": "ipython",
    "version": 3
   },
   "file_extension": ".py",
   "mimetype": "text/x-python",
   "name": "python",
   "nbconvert_exporter": "python",
   "pygments_lexer": "ipython3",
   "version": "3.8.8"
  }
 },
 "nbformat": 4,
 "nbformat_minor": 5
}
